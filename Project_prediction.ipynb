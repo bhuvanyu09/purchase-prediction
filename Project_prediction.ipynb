{
  "nbformat": 4,
  "nbformat_minor": 0,
  "metadata": {
    "colab": {
      "provenance": []
    },
    "kernelspec": {
      "name": "python3",
      "display_name": "Python 3"
    },
    "language_info": {
      "name": "python"
    }
  },
  "cells": [
    {
      "cell_type": "markdown",
      "source": [
        "Import Librarires"
      ],
      "metadata": {
        "id": "Y9tWOYn56OXZ"
      }
    },
    {
      "cell_type": "code",
      "execution_count": 2,
      "metadata": {
        "id": "7ygKBA1b5rVV"
      },
      "outputs": [],
      "source": [
        "import pandas as pd\n",
        "import numpy as np\n",
        "from sklearn.model_selection import train_test_split\n",
        "from sklearn.ensemble import RandomForestClassifier\n",
        "from sklearn.metrics import confusion_matrix, accuracy_score, classification_report\n",
        "import seaborn as sns\n",
        "import matplotlib.pyplot as plt\n"
      ]
    },
    {
      "cell_type": "markdown",
      "source": [
        "Import data"
      ],
      "metadata": {
        "id": "0XfjyieJ6lvS"
      }
    },
    {
      "cell_type": "code",
      "source": [
        "# Load the dataset\n",
        "purchase = pd.read_csv('https://github.com/YBIFoundation/Dataset/raw/main/Customer%20Purchase.csv')\n",
        "\n",
        "# Display the first 5 rows\n",
        "print(purchase.head())\n",
        "\n",
        "# Check dataset structure and summary\n",
        "print(purchase.info())\n",
        "print(purchase.describe())\n"
      ],
      "metadata": {
        "id": "CUA2sZSI6MSj"
      },
      "execution_count": null,
      "outputs": []
    },
    {
      "cell_type": "markdown",
      "source": [
        "Define taget(y) and feature (x)"
      ],
      "metadata": {
        "id": "OknzKIjc6uOB"
      }
    },
    {
      "cell_type": "code",
      "source": [
        "# Target variable\n",
        "y = purchase['Purchased']\n",
        "\n",
        "# Feature variables\n",
        "X = purchase.drop(['Purchased', 'Customer ID'], axis=1)\n",
        "\n",
        "# Encode categorical variables\n",
        "X.replace({'Review': {'Poor': 0, 'Average': 1, 'Good': 2}}, inplace=True)\n",
        "X.replace({'Education': {'School': 0, 'UG': 1, 'PG': 2}}, inplace=True)\n",
        "X.replace({'Gender': {'Male': 0, 'Female': 1}}, inplace=True)\n",
        "\n",
        "# Display the first 5 rows of the processed features\n",
        "print(X.head())\n"
      ],
      "metadata": {
        "id": "3vluBJC86sTu"
      },
      "execution_count": null,
      "outputs": []
    },
    {
      "cell_type": "markdown",
      "source": [
        "Train-Test Split"
      ],
      "metadata": {
        "id": "RA8-4Vce64-E"
      }
    },
    {
      "cell_type": "code",
      "source": [
        "# Split data into training and testing sets\n",
        "X_train, X_test, y_train, y_test = train_test_split(X, y, train_size=0.8, random_state=2529)\n",
        "\n",
        "# Check the shape of the splits\n",
        "print(\"X_train shape:\", X_train.shape)\n",
        "print(\"X_test shape:\", X_test.shape)\n",
        "print(\"y_train shape:\", y_train.shape)\n",
        "print(\"y_test shape:\", y_test.shape)\n"
      ],
      "metadata": {
        "id": "qgPxfsxo617q"
      },
      "execution_count": null,
      "outputs": []
    },
    {
      "cell_type": "markdown",
      "source": [
        "Select Model"
      ],
      "metadata": {
        "id": "gpEifyrR7DW8"
      }
    },
    {
      "cell_type": "code",
      "source": [
        "# Initialize the model\n",
        "model = RandomForestClassifier(random_state=42)\n"
      ],
      "metadata": {
        "id": "G76BGDox62Dp"
      },
      "execution_count": null,
      "outputs": []
    },
    {
      "cell_type": "markdown",
      "source": [
        "Train or Fit model"
      ],
      "metadata": {
        "id": "Xv_0SnK97RbA"
      }
    },
    {
      "cell_type": "code",
      "source": [
        "# Train the model\n",
        "model.fit(X_train, y_train)\n"
      ],
      "metadata": {
        "id": "Ile7JR6U7Obu"
      },
      "execution_count": null,
      "outputs": []
    },
    {
      "cell_type": "markdown",
      "source": [
        "Predict using model"
      ],
      "metadata": {
        "id": "GJyO3guK7aJc"
      }
    },
    {
      "cell_type": "code",
      "source": [
        "# Make predictions\n",
        "y_pred = model.predict(X_test)\n",
        "\n",
        "# Display predictions\n",
        "print(\"Predicted values:\", y_pred)\n"
      ],
      "metadata": {
        "id": "H3v0tjRF7XaW"
      },
      "execution_count": null,
      "outputs": []
    },
    {
      "cell_type": "markdown",
      "source": [
        "Evaluate the model"
      ],
      "metadata": {
        "id": "oY8GrPWj7pUu"
      }
    },
    {
      "cell_type": "code",
      "source": [
        "# Confusion Matrix\n",
        "conf_matrix = confusion_matrix(y_test, y_pred)\n",
        "print(\"Confusion Matrix:\\n\", conf_matrix)\n",
        "\n",
        "# Accuracy Score\n",
        "accuracy = accuracy_score(y_test, y_pred)\n",
        "print(\"Accuracy:\", accuracy)\n",
        "\n",
        "# Classification Report\n",
        "class_report = classification_report(y_test, y_pred)\n",
        "print(\"Classification Report:\\n\", class_report)\n"
      ],
      "metadata": {
        "id": "LvHqCUxO7fX3"
      },
      "execution_count": null,
      "outputs": []
    }
  ]
}